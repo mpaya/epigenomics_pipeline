{
 "cells": [
  {
   "cell_type": "markdown",
   "metadata": {},
   "source": [
    "# Annotation and analysis of ChIP-seq and RNA-seq results\n",
    "\n",
    "Results from the Galaxy workflow and additional processing with the bash notebook are imported and used to annotate genomic results to genes, adding functional annotation, as well as calculate some statistics and generate figures. This notebook will use an imported script containing custom functions.\n"
   ]
  },
  {
   "cell_type": "code",
   "execution_count": 1,
   "metadata": {},
   "outputs": [],
   "source": [
    "my_funs <- \"~/notebooks/functions.R\"\n",
    "source(my_funs)"
   ]
  },
  {
   "cell_type": "markdown",
   "metadata": {},
   "source": [
    "#### Load common resources"
   ]
  },
  {
   "cell_type": "code",
   "execution_count": 2,
   "metadata": {},
   "outputs": [
    {
     "name": "stderr",
     "output_type": "stream",
     "text": [
      "── \u001b[1mAttaching packages\u001b[22m ─────────────────────────────────────── tidyverse 1.2.1 ──\n",
      "\u001b[32m✔\u001b[39m \u001b[34mggplot2\u001b[39m 3.2.0     \u001b[32m✔\u001b[39m \u001b[34mpurrr  \u001b[39m 0.3.2\n",
      "\u001b[32m✔\u001b[39m \u001b[34mtibble \u001b[39m 2.1.3     \u001b[32m✔\u001b[39m \u001b[34mdplyr  \u001b[39m 0.8.1\n",
      "\u001b[32m✔\u001b[39m \u001b[34mtidyr  \u001b[39m 0.8.3     \u001b[32m✔\u001b[39m \u001b[34mstringr\u001b[39m 1.4.0\n",
      "\u001b[32m✔\u001b[39m \u001b[34mreadr  \u001b[39m 1.3.1     \u001b[32m✔\u001b[39m \u001b[34mforcats\u001b[39m 0.4.0\n",
      "── \u001b[1mConflicts\u001b[22m ────────────────────────────────────────── tidyverse_conflicts() ──\n",
      "\u001b[31m✖\u001b[39m \u001b[34mdplyr\u001b[39m::\u001b[32mcollapse()\u001b[39m   masks \u001b[34mBiostrings\u001b[39m::collapse(), \u001b[34mIRanges\u001b[39m::collapse()\n",
      "\u001b[31m✖\u001b[39m \u001b[34mdplyr\u001b[39m::\u001b[32mcombine()\u001b[39m    masks \u001b[34mBiobase\u001b[39m::combine(), \u001b[34mBiocGenerics\u001b[39m::combine()\n",
      "\u001b[31m✖\u001b[39m \u001b[34mpurrr\u001b[39m::\u001b[32mcompact()\u001b[39m    masks \u001b[34mXVector\u001b[39m::compact()\n",
      "\u001b[31m✖\u001b[39m \u001b[34mdplyr\u001b[39m::\u001b[32mdesc()\u001b[39m       masks \u001b[34mIRanges\u001b[39m::desc()\n",
      "\u001b[31m✖\u001b[39m \u001b[34mtidyr\u001b[39m::\u001b[32mexpand()\u001b[39m     masks \u001b[34mS4Vectors\u001b[39m::expand()\n",
      "\u001b[31m✖\u001b[39m \u001b[34mdplyr\u001b[39m::\u001b[32mfilter()\u001b[39m     masks \u001b[34mstats\u001b[39m::filter()\n",
      "\u001b[31m✖\u001b[39m \u001b[34mdplyr\u001b[39m::\u001b[32mfirst()\u001b[39m      masks \u001b[34mS4Vectors\u001b[39m::first()\n",
      "\u001b[31m✖\u001b[39m \u001b[34mdplyr\u001b[39m::\u001b[32mlag()\u001b[39m        masks \u001b[34mstats\u001b[39m::lag()\n",
      "\u001b[31m✖\u001b[39m \u001b[34mggplot2\u001b[39m::\u001b[32mPosition()\u001b[39m masks \u001b[34mBiocGenerics\u001b[39m::Position(), \u001b[34mbase\u001b[39m::Position()\n",
      "\u001b[31m✖\u001b[39m \u001b[34mpurrr\u001b[39m::\u001b[32mreduce()\u001b[39m     masks \u001b[34mGenomicRanges\u001b[39m::reduce(), \u001b[34mIRanges\u001b[39m::reduce()\n",
      "\u001b[31m✖\u001b[39m \u001b[34mdplyr\u001b[39m::\u001b[32mrename()\u001b[39m     masks \u001b[34mS4Vectors\u001b[39m::rename()\n",
      "\u001b[31m✖\u001b[39m \u001b[34mdplyr\u001b[39m::\u001b[32mselect()\u001b[39m     masks \u001b[34mAnnotationDbi\u001b[39m::select()\n",
      "\u001b[31m✖\u001b[39m \u001b[34mdplyr\u001b[39m::\u001b[32mslice()\u001b[39m      masks \u001b[34mXVector\u001b[39m::slice(), \u001b[34mIRanges\u001b[39m::slice()\n"
     ]
    }
   ],
   "source": [
    "suppressMessages(library(GenomicFeatures)); suppressMessages(library(ChIPpeakAnno)); library(tidyverse)"
   ]
  },
  {
   "cell_type": "code",
   "execution_count": 3,
   "metadata": {},
   "outputs": [],
   "source": [
    "options(repr.plot.width=4, repr.plot.height=4)"
   ]
  },
  {
   "cell_type": "code",
   "execution_count": 4,
   "metadata": {},
   "outputs": [],
   "source": [
    "bra_gff <- \"/data/Brapa_chiifu_v3.0.gff\"\n",
    "bra_ann <- read_tsv(\"/data/Bra_v3.0_annot_full.txt\", col_types = cols())"
   ]
  },
  {
   "cell_type": "markdown",
   "metadata": {},
   "source": [
    "## Annotation of epic2 results\n",
    "\n",
    "On the bash notebook, raw epic2 results were filtered by FC between ChIP and INPUT sequencing files for MAnorm. Here, an alternative filtering is aimed to remove peaks overlapping non nuclear genes (chloroplast and mitochondrial sequences are mixed in Scaffolds), and large peaks spanning noisy regions (after visual inspection on IGV). Selection of organellar genes is based on Arabidopsis homologs. The steps include:\n",
    "* Annotation of bed files\n",
    "* Find and remove chloroplast/mitochondrial genes\n",
    "* Filter out noisy regions\n",
    "* Write annotated peaks to file"
   ]
  },
  {
   "cell_type": "code",
   "execution_count": 5,
   "metadata": {},
   "outputs": [
    {
     "name": "stderr",
     "output_type": "stream",
     "text": [
      "Warning message in formatStrand(strand):\n",
      "\"All the characters for strand, \n",
      "            other than '1', '-1', '+', '-' and '*', \n",
      "            will be converted into '*'.\"Import genomic features from the file as a GRanges object ... OK\n",
      "Prepare the 'metadata' data frame ... OK\n",
      "Make the TxDb object ... OK\n",
      "Warning message in formatStrand(strand):\n",
      "\"All the characters for strand, \n",
      "            other than '1', '-1', '+', '-' and '*', \n",
      "            will be converted into '*'.\"Import genomic features from the file as a GRanges object ... OK\n",
      "Prepare the 'metadata' data frame ... OK\n",
      "Make the TxDb object ... OK\n"
     ]
    }
   ],
   "source": [
    "bed_lf <- list.files(\"~/work/galaxy-res/chipseq1/\", pattern = \"*epic2_peaks.bed\", full.names = T)\n",
    "bed_fl <- list.files(\"~/work/galaxy-res/chipseq2/\", pattern = \"*epic2_peaks.bed\", full.names = T)\n",
    "\n",
    "anno_lf <- epic_annot(bed_lf, bra_gff, bra_ann)\n",
    "anno_fl <- epic_annot(bed_fl, bra_gff, bra_ann)"
   ]
  },
  {
   "cell_type": "code",
   "execution_count": 6,
   "metadata": {},
   "outputs": [],
   "source": [
    "## removal of chlorop/mitoc genes\n",
    "lf_peaks2rm <- anno_lf %>% filter(str_detect(gene, \"^Arth\")) %>% select(peak) %>% unique()\n",
    "fl_peaks2rm <- anno_fl %>% filter(str_detect(gene, \"^Arth\")) %>% select(peak) %>% unique()\n",
    "\n",
    "lf_filt <- anti_join(anno_lf, lf_peaks2rm, by = \"peak\")\n",
    "fl_filt <- anti_join(anno_fl, fl_peaks2rm, by = \"peak\")\n",
    "\n",
    "## removal of noisy peaks\n",
    "lf_rm <- tibble(peak = c(\"island_15048\"))\n",
    "fl_rm <- fl_filt %>% filter(width > 10000) %>% select(peak)\n",
    "\n",
    "lf_filt2 <- anti_join(lf_filt, lf_rm, by = \"peak\")\n",
    "fl_filt2 <- anti_join(fl_filt, fl_rm, by = \"peak\")"
   ]
  },
  {
   "cell_type": "code",
   "execution_count": 7,
   "metadata": {},
   "outputs": [],
   "source": [
    "## save annotation results\n",
    "write_annot(lf_filt2, \"~/work/jupyter-res/epic2_filt_LF.anno\")\n",
    "write_annot(fl_filt2, \"~/work/jupyter-res/epic2_filt_FL.anno\")"
   ]
  },
  {
   "cell_type": "code",
   "execution_count": 8,
   "metadata": {},
   "outputs": [
    {
     "data": {
      "text/html": [
       "9067"
      ],
      "text/latex": [
       "9067"
      ],
      "text/markdown": [
       "9067"
      ],
      "text/plain": [
       "[1] 9067"
      ]
     },
     "metadata": {},
     "output_type": "display_data"
    },
    {
     "data": {
      "text/html": [
       "9191"
      ],
      "text/latex": [
       "9191"
      ],
      "text/markdown": [
       "9191"
      ],
      "text/plain": [
       "[1] 9191"
      ]
     },
     "metadata": {},
     "output_type": "display_data"
    }
   ],
   "source": [
    "lf_filt2 %>% filter(signalValue > 1) %>% pull(peak) %>% unique %>% length\n",
    "fl_filt2 %>% filter(signalValue > 1) %>% pull(peak) %>% unique %>% length"
   ]
  },
  {
   "cell_type": "markdown",
   "metadata": {},
   "source": [
    "### Stats and figures\n",
    "\n",
    "#### Peak length\n"
   ]
  },
  {
   "cell_type": "code",
   "execution_count": 9,
   "metadata": {},
   "outputs": [
    {
     "name": "stderr",
     "output_type": "stream",
     "text": [
      "Warning message:\n",
      "\"`as_tibble.matrix()` requires a matrix with column names or a `.name_repair` argument. Using compatibility `.name_repair`.\n",
      "\u001b[90mThis warning is displayed once per session.\u001b[39m\""
     ]
    },
    {
     "data": {
      "text/html": [
       "<table>\n",
       "<caption>A tibble: 7 × 3</caption>\n",
       "<thead>\n",
       "\t<tr><th scope=col>V1</th><th scope=col>leaf</th><th scope=col>flower</th></tr>\n",
       "\t<tr><th scope=col>&lt;chr&gt;</th><th scope=col>&lt;chr&gt;</th><th scope=col>&lt;chr&gt;</th></tr>\n",
       "</thead>\n",
       "<tbody>\n",
       "\t<tr><td>Min.   </td><td>  200   </td><td>  200   </td></tr>\n",
       "\t<tr><td>1st Qu.</td><td> 1200   </td><td>  800   </td></tr>\n",
       "\t<tr><td>Median </td><td> 2200   </td><td> 1600   </td></tr>\n",
       "\t<tr><td>Mean   </td><td> 2991   </td><td> 2063   </td></tr>\n",
       "\t<tr><td>3rd Qu.</td><td> 3800   </td><td> 2600   </td></tr>\n",
       "\t<tr><td>Max.   </td><td>43800   </td><td>10000   </td></tr>\n",
       "\t<tr><td>n_bases</td><td>45264600</td><td>43262800</td></tr>\n",
       "</tbody>\n",
       "</table>\n"
      ],
      "text/latex": [
       "A tibble: 7 × 3\n",
       "\\begin{tabular}{r|lll}\n",
       " V1 & leaf & flower\\\\\n",
       " <chr> & <chr> & <chr>\\\\\n",
       "\\hline\n",
       "\t Min.    &   200    &   200   \\\\\n",
       "\t 1st Qu. &  1200    &   800   \\\\\n",
       "\t Median  &  2200    &  1600   \\\\\n",
       "\t Mean    &  2991    &  2063   \\\\\n",
       "\t 3rd Qu. &  3800    &  2600   \\\\\n",
       "\t Max.    & 43800    & 10000   \\\\\n",
       "\t n\\_bases & 45264600 & 43262800\\\\\n",
       "\\end{tabular}\n"
      ],
      "text/markdown": [
       "\n",
       "A tibble: 7 × 3\n",
       "\n",
       "| V1 &lt;chr&gt; | leaf &lt;chr&gt; | flower &lt;chr&gt; |\n",
       "|---|---|---|\n",
       "| Min.    |   200    |   200    |\n",
       "| 1st Qu. |  1200    |   800    |\n",
       "| Median  |  2200    |  1600    |\n",
       "| Mean    |  2991    |  2063    |\n",
       "| 3rd Qu. |  3800    |  2600    |\n",
       "| Max.    | 43800    | 10000    |\n",
       "| n_bases | 45264600 | 43262800 |\n",
       "\n"
      ],
      "text/plain": [
       "  V1      leaf     flower  \n",
       "1 Min.      200      200   \n",
       "2 1st Qu.  1200      800   \n",
       "3 Median   2200     1600   \n",
       "4 Mean     2991     2063   \n",
       "5 3rd Qu.  3800     2600   \n",
       "6 Max.    43800    10000   \n",
       "7 n_bases 45264600 43262800"
      ]
     },
     "metadata": {},
     "output_type": "display_data"
    }
   ],
   "source": [
    "lf_tmp <- select(lf_filt2, c(\"peak\",\"width\")) %>% unique() %>% select(\"width\")\n",
    "fl_tmp <- select(fl_filt2, c(\"peak\",\"width\")) %>% unique() %>% select(\"width\")\n",
    "\n",
    "full_join(\n",
    "    lf_tmp %>% summary() %>% str_split_fixed(pattern = \":\", n = 2) %>% as_tibble %>% rename(leaf = 2),\n",
    "    fl_tmp %>% summary() %>% str_split_fixed(pattern = \":\", n = 2) %>% as_tibble %>% rename(flower = 2),\n",
    "    by = \"V1\"\n",
    ") %>% rbind(c(\"n_bases\", sum(lf_tmp), sum(fl_tmp)))"
   ]
  },
  {
   "cell_type": "markdown",
   "metadata": {},
   "source": [
    "#### Peak annotations"
   ]
  },
  {
   "cell_type": "code",
   "execution_count": 10,
   "metadata": {},
   "outputs": [
    {
     "data": {
      "text/html": [
       "<table>\n",
       "<caption>A tibble: 2 × 7</caption>\n",
       "<thead>\n",
       "\t<tr><th scope=col>tissue</th><th scope=col>tot_peaks</th><th scope=col>filt_peaks</th><th scope=col>annot_peaks2</th><th scope=col>interactions</th><th scope=col>annot_genes</th><th scope=col>no_annots</th></tr>\n",
       "\t<tr><th scope=col>&lt;chr&gt;</th><th scope=col>&lt;int&gt;</th><th scope=col>&lt;int&gt;</th><th scope=col>&lt;int&gt;</th><th scope=col>&lt;int&gt;</th><th scope=col>&lt;int&gt;</th><th scope=col>&lt;int&gt;</th></tr>\n",
       "</thead>\n",
       "<tbody>\n",
       "\t<tr><td>leaves </td><td>15140</td><td>15136</td><td>10325</td><td>12949</td><td>12480</td><td> 4811</td></tr>\n",
       "\t<tr><td>flowers</td><td>21397</td><td>20967</td><td>10180</td><td>11398</td><td>10807</td><td>10787</td></tr>\n",
       "</tbody>\n",
       "</table>\n"
      ],
      "text/latex": [
       "A tibble: 2 × 7\n",
       "\\begin{tabular}{r|lllllll}\n",
       " tissue & tot\\_peaks & filt\\_peaks & annot\\_peaks2 & interactions & annot\\_genes & no\\_annots\\\\\n",
       " <chr> & <int> & <int> & <int> & <int> & <int> & <int>\\\\\n",
       "\\hline\n",
       "\t leaves  & 15140 & 15136 & 10325 & 12949 & 12480 &  4811\\\\\n",
       "\t flowers & 21397 & 20967 & 10180 & 11398 & 10807 & 10787\\\\\n",
       "\\end{tabular}\n"
      ],
      "text/markdown": [
       "\n",
       "A tibble: 2 × 7\n",
       "\n",
       "| tissue &lt;chr&gt; | tot_peaks &lt;int&gt; | filt_peaks &lt;int&gt; | annot_peaks2 &lt;int&gt; | interactions &lt;int&gt; | annot_genes &lt;int&gt; | no_annots &lt;int&gt; |\n",
       "|---|---|---|---|---|---|---|\n",
       "| leaves  | 15140 | 15136 | 10325 | 12949 | 12480 |  4811 |\n",
       "| flowers | 21397 | 20967 | 10180 | 11398 | 10807 | 10787 |\n",
       "\n"
      ],
      "text/plain": [
       "  tissue  tot_peaks filt_peaks annot_peaks2 interactions annot_genes no_annots\n",
       "1 leaves  15140     15136      10325        12949        12480        4811    \n",
       "2 flowers 21397     20967      10180        11398        10807       10787    "
      ]
     },
     "metadata": {},
     "output_type": "display_data"
    }
   ],
   "source": [
    "tot_pk_lf2 <- select(lf_filt2, peak, feature) %>% subset(!is.na(.$feature))\n",
    "tot_pk_fl2 <- select(fl_filt2, peak, feature) %>% subset(!is.na(.$feature))\n",
    "\n",
    "tibble(tissue = c(\"leaves\", \"flowers\"),\n",
    "       tot_peaks = c(length(unique(anno_lf$peak)), length(unique(anno_fl$peak))), \n",
    "       filt_peaks = c(length(unique(lf_filt2$peak)),length(unique(fl_filt2$peak))),\n",
    "       annot_peaks2 = c(length(unique(tot_pk_lf2$peak)), length(unique(tot_pk_fl2$peak))),\n",
    "       interactions = c(nrow(tot_pk_lf2), nrow(tot_pk_fl2)),\n",
    "       annot_genes = c(length(unique(tot_pk_lf2$feature)), length(unique(tot_pk_fl2$feature))),\n",
    "       no_annots = c(nrow(filter(lf_filt2, is.na(feature))), nrow(filter(fl_filt2, is.na(feature))))\n",
    "      )"
   ]
  },
  {
   "cell_type": "markdown",
   "metadata": {},
   "source": [
    "#### Number of genes spanned by peaks"
   ]
  },
  {
   "cell_type": "code",
   "execution_count": 11,
   "metadata": {},
   "outputs": [
    {
     "name": "stderr",
     "output_type": "stream",
     "text": [
      "Warning message:\n",
      "\"Column `Var1` joining factors with different levels, coercing to character vector\""
     ]
    },
    {
     "data": {
      "text/html": [
       "<table>\n",
       "<caption>A tibble: 4 × 3</caption>\n",
       "<thead>\n",
       "\t<tr><th scope=col>n_genes</th><th scope=col>leaf</th><th scope=col>flower</th></tr>\n",
       "\t<tr><th scope=col>&lt;fct&gt;</th><th scope=col>&lt;dbl&gt;</th><th scope=col>&lt;dbl&gt;</th></tr>\n",
       "</thead>\n",
       "<tbody>\n",
       "\t<tr><td>0   </td><td>4811</td><td>10787</td></tr>\n",
       "\t<tr><td>1   </td><td>8347</td><td> 9137</td></tr>\n",
       "\t<tr><td>2-5 </td><td>1962</td><td> 1038</td></tr>\n",
       "\t<tr><td>6-10</td><td>  16</td><td>    5</td></tr>\n",
       "</tbody>\n",
       "</table>\n"
      ],
      "text/latex": [
       "A tibble: 4 × 3\n",
       "\\begin{tabular}{r|lll}\n",
       " n\\_genes & leaf & flower\\\\\n",
       " <fct> & <dbl> & <dbl>\\\\\n",
       "\\hline\n",
       "\t 0    & 4811 & 10787\\\\\n",
       "\t 1    & 8347 &  9137\\\\\n",
       "\t 2-5  & 1962 &  1038\\\\\n",
       "\t 6-10 &   16 &     5\\\\\n",
       "\\end{tabular}\n"
      ],
      "text/markdown": [
       "\n",
       "A tibble: 4 × 3\n",
       "\n",
       "| n_genes &lt;fct&gt; | leaf &lt;dbl&gt; | flower &lt;dbl&gt; |\n",
       "|---|---|---|\n",
       "| 0    | 4811 | 10787 |\n",
       "| 1    | 8347 |  9137 |\n",
       "| 2-5  | 1962 |  1038 |\n",
       "| 6-10 |   16 |     5 |\n",
       "\n"
      ],
      "text/plain": [
       "  n_genes leaf flower\n",
       "1 0       4811 10787 \n",
       "2 1       8347  9137 \n",
       "3 2-5     1962  1038 \n",
       "4 6-10      16     5 "
      ]
     },
     "metadata": {},
     "output_type": "display_data"
    }
   ],
   "source": [
    "pk_distr <- full_join(as.data.frame(table(table(tot_pk_lf2$peak))),\n",
    "                      as.data.frame(table(table(tot_pk_fl2$peak))), by = \"Var1\")  %>% \n",
    "  mutate_all(list(~ replace(., is.na(.), 0)))  %>%\n",
    "  rename(n = 1, leaves = 2, flowers = 3) %>% \n",
    "  add_row(n = 0, leaves = nrow(filter(lf_filt2, is.na(feature))), \n",
    "          flowers = nrow(filter(fl_filt2, is.na(feature))), .before = 1) %>% \n",
    "  mutate(n_genes = cut(as.numeric(n),  breaks=c(-Inf,0,1, 5, 10, Inf),\n",
    "                       labels=c('0', '1', '2-5', '6-10', '>10'))) %>%\n",
    "  group_by(n_genes) %>% \n",
    "  summarise(leaf = sum(leaves), flower = sum(flowers))\n",
    "pk_distr"
   ]
  },
  {
   "cell_type": "code",
   "execution_count": 12,
   "metadata": {},
   "outputs": [
    {
     "data": {
      "image/png": "[encoded data removed]",
      "text/plain": [
       "plot without title"
      ]
     },
     "metadata": {},
     "output_type": "display_data"
    }
   ],
   "source": [
    "p <- ggplot(pk_distr, aes(x = n_genes, y = leaf)) + \n",
    "  geom_bar(stat=\"identity\", fill = \"darkgreen\" ) + \n",
    "  geom_text(aes(label=leaf), vjust=-0.7, color = \"black\", size = 3) + \n",
    "  scale_y_continuous(\"Number of regions\", expand = c(0,0),\n",
    "                     limits = c(0, 1.1* max(pk_distr$leaf)),\n",
    "                     breaks = seq(0, 1.1* max(pk_distr$leaf), by = 1000)) +\n",
    "  labs(x = \"\") + \n",
    "  theme_classic()  + \n",
    "  theme(axis.text.x = element_text(angle = 45, hjust = 1))\n",
    "p"
   ]
  },
  {
   "cell_type": "code",
   "execution_count": 13,
   "metadata": {},
   "outputs": [],
   "source": [
    "ggsave(p, file = \"~/work/jupyter-res/peakBYgenes_LF.pdf\", width = 2, height = 2.7 )"
   ]
  },
  {
   "cell_type": "markdown",
   "metadata": {},
   "source": [
    "#### Histogram of peak length in leaves"
   ]
  },
  {
   "cell_type": "code",
   "execution_count": 14,
   "metadata": {},
   "outputs": [
    {
     "name": "stderr",
     "output_type": "stream",
     "text": [
      "Warning message:\n",
      "\"Removed 27 rows containing non-finite values (stat_bin).\""
     ]
    }
   ],
   "source": [
    "data <- lf_filt2 %>% select(width, peak) %>% unique\n",
    "p2 <- ggplot(data, aes(x=width)) +\n",
    "  stat_bin(breaks = seq(0,20000,1000), position=\"identity\") +\n",
    "  xlim(0, 20000) +\n",
    "  theme_classic()\n",
    "\n",
    "pg <- ggplot_build(p2)"
   ]
  },
  {
   "cell_type": "code",
   "execution_count": 15,
   "metadata": {},
   "outputs": [
    {
     "data": {
      "image/png": "[encoded data removed]",
      "text/plain": [
       "plot without title"
      ]
     },
     "metadata": {},
     "output_type": "display_data"
    }
   ],
   "source": [
    "pk_mean <- lf_filt2 %>% select(width, peak) %>% unique %>% pull(width) %>% mean\n",
    "p3 <- ggplot(pg$data[[1]], aes(x=x, y=y, fill = x)) +\n",
    "  geom_bar(stat=\"identity\", color = \"darkgreen\", width = 1000) +\n",
    "  scale_x_continuous(\"Island size (kb)\", expand = c(0.02,0),\n",
    "                     breaks = seq(0, 20000, by = 3000),\n",
    "                     labels = seq(0,20, by = 3)) + \n",
    "  scale_y_continuous(\"Number of regions\", expand = c(0,0),\n",
    "                     limits = c(0, 1.1* max(pg$data[[1]]$y)),\n",
    "                     breaks = seq(0, 1.1* max(pg$data[[1]]$y), by = 500)) +\n",
    "  theme_classic() +\n",
    "  theme(legend.position=\"none\",\n",
    "       plot.margin = margin(t = 5, r = 10, b = 5, l = 7, unit = \"pt\")) + \n",
    "  geom_vline(xintercept = pk_mean, color = \"blue\") + \n",
    "  geom_text(aes(x = 8500 + pk_mean, label=paste0(\"Mean = \",round(pk_mean/1000, 2),\" kb\"), \n",
    "                y = 2500), colour=\"blue\", size=3.7) +\n",
    "  scale_fill_gradient(low=\"lightgreen\", high=\"darkgreen\")\n",
    "p3"
   ]
  },
  {
   "cell_type": "code",
   "execution_count": 16,
   "metadata": {},
   "outputs": [],
   "source": [
    "ggsave(p3, file = \"~/work/jupyter-res/peak_len_hist.pdf\", width = 2.5, height = 3 )"
   ]
  },
  {
   "cell_type": "markdown",
   "metadata": {},
   "source": [
    "## Annotation of MAnorm results\n",
    "The table of results generated by MAnorm was annotated to include the names and FC of epic2 peaks in addition to functional annotations. "
   ]
  },
  {
   "cell_type": "code",
   "execution_count": 17,
   "metadata": {},
   "outputs": [
    {
     "name": "stderr",
     "output_type": "stream",
     "text": [
      "Import genomic features from the file as a GRanges object ... OK\n",
      "Prepare the 'metadata' data frame ... OK\n",
      "Make the TxDb object ... OK\n"
     ]
    },
    {
     "data": {
      "text/html": [
       "<table>\n",
       "<caption>A data.frame: 3 × 25</caption>\n",
       "<thead>\n",
       "\t<tr><th></th><th scope=col>seqnames</th><th scope=col>start</th><th scope=col>end</th><th scope=col>width</th><th scope=col>strand</th><th scope=col>peaks_leaf</th><th scope=col>FC_leaf</th><th scope=col>peaks_infl</th><th scope=col>FC_infl</th><th scope=col>summit</th><th scope=col>⋯</th><th scope=col>normalized_read_density_in_infl</th><th scope=col>peak</th><th scope=col>feature</th><th scope=col>start_position</th><th scope=col>end_position</th><th scope=col>feature_strand</th><th scope=col>insideFeature</th><th scope=col>distancetoFeature</th><th scope=col>shortestDistance</th><th scope=col>fromOverlappingOrNearest</th></tr>\n",
       "\t<tr><th></th><th scope=col>&lt;fct&gt;</th><th scope=col>&lt;int&gt;</th><th scope=col>&lt;int&gt;</th><th scope=col>&lt;int&gt;</th><th scope=col>&lt;fct&gt;</th><th scope=col>&lt;chr&gt;</th><th scope=col>&lt;dbl&gt;</th><th scope=col>&lt;chr&gt;</th><th scope=col>&lt;dbl&gt;</th><th scope=col>&lt;dbl&gt;</th><th scope=col>⋯</th><th scope=col>&lt;dbl&gt;</th><th scope=col>&lt;chr&gt;</th><th scope=col>&lt;chr&gt;</th><th scope=col>&lt;int&gt;</th><th scope=col>&lt;int&gt;</th><th scope=col>&lt;chr&gt;</th><th scope=col>&lt;fct&gt;</th><th scope=col>&lt;dbl&gt;</th><th scope=col>&lt;int&gt;</th><th scope=col>&lt;chr&gt;</th></tr>\n",
       "</thead>\n",
       "<tbody>\n",
       "\t<tr><th scope=row>X00001.BraA08g000140.3C</th><td>A08</td><td> 75001</td><td> 75399</td><td> 399</td><td>*</td><td>island_10666</td><td>1.015585</td><td>NA          </td><td>       NA</td><td> 199</td><td>⋯</td><td> 98.00816</td><td>00001</td><td>BraA08g000140.3C</td><td> 69457</td><td> 76110</td><td>- </td><td>inside</td><td>1109</td><td>711</td><td>Overlapping</td></tr>\n",
       "\t<tr><th scope=row>X00002.BraA08g000220.3C</th><td>A08</td><td>146401</td><td>147999</td><td>1599</td><td>*</td><td>island_10667</td><td>1.022060</td><td>island_11019</td><td>0.8010125</td><td> 799</td><td>⋯</td><td>275.55089</td><td>00002</td><td>BraA08g000220.3C</td><td>146344</td><td>148191</td><td>+ </td><td>inside</td><td>  57</td><td> 57</td><td>Overlapping</td></tr>\n",
       "\t<tr><th scope=row>X00003.NA</th><td>A08</td><td>561601</td><td>563999</td><td>2399</td><td>*</td><td>island_10680</td><td>1.016380</td><td>island_11034</td><td>0.6235837</td><td>1199</td><td>⋯</td><td>188.81375</td><td>00003</td><td>NA              </td><td>    NA</td><td>    NA</td><td>NA</td><td>NA    </td><td>  NA</td><td> NA</td><td>NA         </td></tr>\n",
       "</tbody>\n",
       "</table>\n"
      ],
      "text/latex": [
       "A data.frame: 3 × 25\n",
       "\\begin{tabular}{r|lllllllllllllllllllllllll}\n",
       "  & seqnames & start & end & width & strand & peaks\\_leaf & FC\\_leaf & peaks\\_infl & FC\\_infl & summit & M\\_value & A\\_value & P\\_value & Peak\\_Group & normalized\\_read\\_density\\_in\\_leaf & normalized\\_read\\_density\\_in\\_infl & peak & feature & start\\_position & end\\_position & feature\\_strand & insideFeature & distancetoFeature & shortestDistance & fromOverlappingOrNearest\\\\\n",
       "  & <fct> & <int> & <int> & <int> & <fct> & <chr> & <dbl> & <chr> & <dbl> & <dbl> & <dbl> & <dbl> & <dbl> & <chr> & <dbl> & <dbl> & <chr> & <chr> & <int> & <int> & <chr> & <fct> & <dbl> & <int> & <chr>\\\\\n",
       "\\hline\n",
       "\tX00001.BraA08g000140.3C & A08 &  75001 &  75399 &  399 & * & island\\_10666 & 1.015585 & NA           &        NA &  199 & -0.57502 & 6.32732 & 1.369735e-03 & leaf\\_unique &  65.79062 &  98.00816 & 00001 & BraA08g000140.3C &  69457 &  76110 & -  & inside & 1109 & 711 & Overlapping\\\\\n",
       "\tX00002.BraA08g000220.3C & A08 & 146401 & 147999 & 1599 & * & island\\_10667 & 1.022060 & island\\_11019 & 0.8010125 &  799 & -0.73667 & 7.73784 & 1.445662e-08 & leaf\\_unique & 165.36441 & 275.55089 & 00002 & BraA08g000220.3C & 146344 & 148191 & +  & inside &   57 &  57 & Overlapping\\\\\n",
       "\tX00003.NA & A08 & 561601 & 563999 & 2399 & * & island\\_10680 & 1.016380 & island\\_11034 & 0.6235837 & 1199 & -0.19600 & 7.46282 & 9.408161e-03 & leaf\\_unique & 164.82828 & 188.81375 & 00003 & NA               &     NA &     NA & NA & NA     &   NA &  NA & NA         \\\\\n",
       "\\end{tabular}\n"
      ],
      "text/markdown": [
       "\n",
       "A data.frame: 3 × 25\n",
       "\n",
       "| <!--/--> | seqnames &lt;fct&gt; | start &lt;int&gt; | end &lt;int&gt; | width &lt;int&gt; | strand &lt;fct&gt; | peaks_leaf &lt;chr&gt; | FC_leaf &lt;dbl&gt; | peaks_infl &lt;chr&gt; | FC_infl &lt;dbl&gt; | summit &lt;dbl&gt; | ⋯ ⋯ | normalized_read_density_in_infl &lt;dbl&gt; | peak &lt;chr&gt; | feature &lt;chr&gt; | start_position &lt;int&gt; | end_position &lt;int&gt; | feature_strand &lt;chr&gt; | insideFeature &lt;fct&gt; | distancetoFeature &lt;dbl&gt; | shortestDistance &lt;int&gt; | fromOverlappingOrNearest &lt;chr&gt; |\n",
       "|---|---|---|---|---|---|---|---|---|---|---|---|---|---|---|---|---|---|---|---|---|---|\n",
       "| X00001.BraA08g000140.3C | A08 |  75001 |  75399 |  399 | * | island_10666 | 1.015585 | NA           |        NA |  199 | ⋯ |  98.00816 | 00001 | BraA08g000140.3C |  69457 |  76110 | -  | inside | 1109 | 711 | Overlapping |\n",
       "| X00002.BraA08g000220.3C | A08 | 146401 | 147999 | 1599 | * | island_10667 | 1.022060 | island_11019 | 0.8010125 |  799 | ⋯ | 275.55089 | 00002 | BraA08g000220.3C | 146344 | 148191 | +  | inside |   57 |  57 | Overlapping |\n",
       "| X00003.NA | A08 | 561601 | 563999 | 2399 | * | island_10680 | 1.016380 | island_11034 | 0.6235837 | 1199 | ⋯ | 188.81375 | 00003 | NA               |     NA |     NA | NA | NA     |   NA |  NA | NA          |\n",
       "\n"
      ],
      "text/plain": [
       "                        seqnames start  end    width strand peaks_leaf  \n",
       "X00001.BraA08g000140.3C A08       75001  75399  399  *      island_10666\n",
       "X00002.BraA08g000220.3C A08      146401 147999 1599  *      island_10667\n",
       "X00003.NA               A08      561601 563999 2399  *      island_10680\n",
       "                        FC_leaf  peaks_infl   FC_infl   summit ⋯\n",
       "X00001.BraA08g000140.3C 1.015585 NA                  NA  199   ⋯\n",
       "X00002.BraA08g000220.3C 1.022060 island_11019 0.8010125  799   ⋯\n",
       "X00003.NA               1.016380 island_11034 0.6235837 1199   ⋯\n",
       "                        normalized_read_density_in_infl peak  feature         \n",
       "X00001.BraA08g000140.3C  98.00816                       00001 BraA08g000140.3C\n",
       "X00002.BraA08g000220.3C 275.55089                       00002 BraA08g000220.3C\n",
       "X00003.NA               188.81375                       00003 NA              \n",
       "                        start_position end_position feature_strand\n",
       "X00001.BraA08g000140.3C  69457          76110       -             \n",
       "X00002.BraA08g000220.3C 146344         148191       +             \n",
       "X00003.NA                   NA             NA       NA            \n",
       "                        insideFeature distancetoFeature shortestDistance\n",
       "X00001.BraA08g000140.3C inside        1109              711             \n",
       "X00002.BraA08g000220.3C inside          57               57             \n",
       "X00003.NA               NA              NA               NA             \n",
       "                        fromOverlappingOrNearest\n",
       "X00001.BraA08g000140.3C Overlapping             \n",
       "X00002.BraA08g000220.3C Overlapping             \n",
       "X00003.NA               NA                      "
      ]
     },
     "metadata": {},
     "output_type": "display_data"
    }
   ],
   "source": [
    "manorm_dir <- \"~/work/jupyter-res/manorm-leafVSinfl/\"\n",
    "manorm_res <- list.files(manorm_dir, pattern = \".*.xls\", full.names = T)\n",
    "\n",
    "options(warn=-1)\n",
    "grMN <- combine_epic(bed_lf, bed_fl, manorm_res)\n",
    "\n",
    "res_anpe <- annotate_peaks(bra_gff, grMN)\n",
    "head(res_anpe, 3)\n",
    "\n",
    "anno_df <- add_func_annot(res_anpe,bra_ann)"
   ]
  },
  {
   "cell_type": "code",
   "execution_count": 18,
   "metadata": {},
   "outputs": [],
   "source": [
    "write_annot(anno_df, paste0(manorm_dir, \"manorm_annot_leafVSinfl.txt\"))"
   ]
  },
  {
   "cell_type": "markdown",
   "metadata": {},
   "source": [
    "## Load RNA-seq results\n",
    "The major results after RNA-seq analysis are the table of normalized read counts and the differential expression analysis results.\n",
    "\n",
    "### Read counts\n",
    "Counts are loaded and transformed into z-scores."
   ]
  },
  {
   "cell_type": "code",
   "execution_count": 19,
   "metadata": {},
   "outputs": [],
   "source": [
    "RowSD <- function(x) {\n",
    "  sqrt(rowSums((x - rowMeans(x))^2)/(dim(x)[2] - 1))\n",
    "}"
   ]
  },
  {
   "cell_type": "code",
   "execution_count": 20,
   "metadata": {},
   "outputs": [],
   "source": [
    "cnt_res <- list.files(\"~/work/galaxy-res/rnaseq/\", pattern = \".*counts.tabular\", full.names = T)\n",
    "\n",
    "cnt_res <- read_tsv(cnt_res, col_names = c(\"feature\", \"S1_infl\", \"S2_infl\", \"S3_infl\", \"S1_leaf\", \"S2_leaf\", \"S3_leaf\"), col_types = cols(), skip = 1)  %>% \n",
    "    gather(tmp, value, -feature) %>% \n",
    "    separate(tmp, c(\"stat\", \"tissue\")) %>% \n",
    "    spread(stat, value) %>% \n",
    "    mutate(counts = rowSums(.[3:5]), sd = RowSD(.[3:5]))"
   ]
  },
  {
   "cell_type": "markdown",
   "metadata": {},
   "source": [
    "#### Calculation of z-scores\n",
    "Counts were categorized by expression level and the lists of genes exported locally."
   ]
  },
  {
   "cell_type": "code",
   "execution_count": 21,
   "metadata": {},
   "outputs": [
    {
     "name": "stderr",
     "output_type": "stream",
     "text": [
      "Joining, by = c(\"feature\", \"tissue\", \"S1\", \"S2\", \"S3\", \"counts\", \"sd\")\n"
     ]
    },
    {
     "data": {
      "text/html": [
       "<table>\n",
       "<caption>A grouped_df: 3 × 12</caption>\n",
       "<thead>\n",
       "\t<tr><th scope=col>feature</th><th scope=col>tissue</th><th scope=col>S1</th><th scope=col>S2</th><th scope=col>S3</th><th scope=col>counts</th><th scope=col>sd</th><th scope=col>log</th><th scope=col>tmean</th><th scope=col>tsd</th><th scope=col>z</th><th scope=col>category</th></tr>\n",
       "\t<tr><th scope=col>&lt;chr&gt;</th><th scope=col>&lt;chr&gt;</th><th scope=col>&lt;dbl&gt;</th><th scope=col>&lt;dbl&gt;</th><th scope=col>&lt;dbl&gt;</th><th scope=col>&lt;dbl&gt;</th><th scope=col>&lt;dbl&gt;</th><th scope=col>&lt;dbl&gt;</th><th scope=col>&lt;dbl&gt;</th><th scope=col>&lt;dbl&gt;</th><th scope=col>&lt;dbl&gt;</th><th scope=col>&lt;fct&gt;</th></tr>\n",
       "</thead>\n",
       "<tbody>\n",
       "\t<tr><td>BraA01g000020.3C</td><td>infl</td><td>26.72714</td><td>12.49346</td><td>15.82679</td><td>55.04740</td><td>7.444531</td><td>1.740737</td><td>1.780569</td><td>1.0088225</td><td>-0.03948432</td><td>medium</td></tr>\n",
       "\t<tr><td>BraA01g000020.3C</td><td>leaf</td><td>26.24553</td><td>25.52254</td><td>29.69153</td><td>81.45960</td><td>2.227786</td><td>1.910942</td><td>1.892161</td><td>0.9872481</td><td> 0.01902369</td><td>medium</td></tr>\n",
       "\t<tr><td>BraA01g000030.3C</td><td>infl</td><td>26.72714</td><td>20.52498</td><td>20.04727</td><td>67.29939</td><td>3.726386</td><td>1.828011</td><td>1.780569</td><td>1.0088225</td><td> 0.04702676</td><td>medium</td></tr>\n",
       "</tbody>\n",
       "</table>\n"
      ],
      "text/latex": [
       "A grouped_df: 3 × 12\n",
       "\\begin{tabular}{r|llllllllllll}\n",
       " feature & tissue & S1 & S2 & S3 & counts & sd & log & tmean & tsd & z & category\\\\\n",
       " <chr> & <chr> & <dbl> & <dbl> & <dbl> & <dbl> & <dbl> & <dbl> & <dbl> & <dbl> & <dbl> & <fct>\\\\\n",
       "\\hline\n",
       "\t BraA01g000020.3C & infl & 26.72714 & 12.49346 & 15.82679 & 55.04740 & 7.444531 & 1.740737 & 1.780569 & 1.0088225 & -0.03948432 & medium\\\\\n",
       "\t BraA01g000020.3C & leaf & 26.24553 & 25.52254 & 29.69153 & 81.45960 & 2.227786 & 1.910942 & 1.892161 & 0.9872481 &  0.01902369 & medium\\\\\n",
       "\t BraA01g000030.3C & infl & 26.72714 & 20.52498 & 20.04727 & 67.29939 & 3.726386 & 1.828011 & 1.780569 & 1.0088225 &  0.04702676 & medium\\\\\n",
       "\\end{tabular}\n"
      ],
      "text/markdown": [
       "\n",
       "A grouped_df: 3 × 12\n",
       "\n",
       "| feature &lt;chr&gt; | tissue &lt;chr&gt; | S1 &lt;dbl&gt; | S2 &lt;dbl&gt; | S3 &lt;dbl&gt; | counts &lt;dbl&gt; | sd &lt;dbl&gt; | log &lt;dbl&gt; | tmean &lt;dbl&gt; | tsd &lt;dbl&gt; | z &lt;dbl&gt; | category &lt;fct&gt; |\n",
       "|---|---|---|---|---|---|---|---|---|---|---|---|\n",
       "| BraA01g000020.3C | infl | 26.72714 | 12.49346 | 15.82679 | 55.04740 | 7.444531 | 1.740737 | 1.780569 | 1.0088225 | -0.03948432 | medium |\n",
       "| BraA01g000020.3C | leaf | 26.24553 | 25.52254 | 29.69153 | 81.45960 | 2.227786 | 1.910942 | 1.892161 | 0.9872481 |  0.01902369 | medium |\n",
       "| BraA01g000030.3C | infl | 26.72714 | 20.52498 | 20.04727 | 67.29939 | 3.726386 | 1.828011 | 1.780569 | 1.0088225 |  0.04702676 | medium |\n",
       "\n"
      ],
      "text/plain": [
       "  feature          tissue S1       S2       S3       counts   sd       log     \n",
       "1 BraA01g000020.3C infl   26.72714 12.49346 15.82679 55.04740 7.444531 1.740737\n",
       "2 BraA01g000020.3C leaf   26.24553 25.52254 29.69153 81.45960 2.227786 1.910942\n",
       "3 BraA01g000030.3C infl   26.72714 20.52498 20.04727 67.29939 3.726386 1.828011\n",
       "  tmean    tsd       z           category\n",
       "1 1.780569 1.0088225 -0.03948432 medium  \n",
       "2 1.892161 0.9872481  0.01902369 medium  \n",
       "3 1.780569 1.0088225  0.04702676 medium  "
      ]
     },
     "metadata": {},
     "output_type": "display_data"
    }
   ],
   "source": [
    "cnt_res <- cnt_res %>% \n",
    "    filter(counts != 0) %>% \n",
    "    group_by(tissue) %>%\n",
    "    mutate(log = log10(counts)) %>% \n",
    "    mutate(tmean = mean(log), tsd = sd(log)) %>% \n",
    "    mutate(z = (log - tmean) / tsd) %>% \n",
    "    full_join(cnt_res) %>%\n",
    "    mutate(category = cut(z, breaks=c(-Inf, -0.5, 0.5, Inf), labels=c(\"low\",\"medium\",\"high\"))) %>% \n",
    "    mutate(category = replace_na(as.character(category), \"no_expr\"))\n",
    "cnt_res$category <- factor(cnt_res$category, levels = c(\"no_expr\", \"low\", \"medium\", \"high\"))\n",
    "\n",
    "head(cnt_res, 3)"
   ]
  },
  {
   "cell_type": "code",
   "execution_count": 22,
   "metadata": {},
   "outputs": [
    {
     "name": "stdout",
     "output_type": "stream",
     "text": [
      "infl.no_expr\t14824\n",
      "leaf.no_expr\t17851\n",
      "infl.low\t9659\n",
      "leaf.low\t8575\n",
      "infl.medium\t10698\n",
      "leaf.medium\t10425\n",
      "infl.high\t11067\n",
      "leaf.high\t9397\n"
     ]
    }
   ],
   "source": [
    "dir_path = \"~/work/jupyter-res/gene_lists/\"\n",
    "dir.create(dir_path, showWarnings = FALSE)\n",
    "\n",
    "my_feat <- with(cnt_res, split(feature, list(tissue, category)))\n",
    "for (n in names(my_feat)) {\n",
    "    cat(paste(n, length(my_feat[[n]]), sep = \"\\t\"), sep=\"\\n\")\n",
    "    cat(my_feat[[n]], file= paste0(dir_path,n,\".txt\"), sep=\"\\n\")\n",
    "}"
   ]
  },
  {
   "cell_type": "markdown",
   "metadata": {},
   "source": [
    "### Differential expression results\n",
    "Results from DESeq2 are loaded and combined with counts and MAnorm results."
   ]
  },
  {
   "cell_type": "code",
   "execution_count": 23,
   "metadata": {},
   "outputs": [
    {
     "data": {
      "text/html": [
       "46248"
      ],
      "text/latex": [
       "46248"
      ],
      "text/markdown": [
       "46248"
      ],
      "text/plain": [
       "[1] 46248"
      ]
     },
     "metadata": {},
     "output_type": "display_data"
    },
    {
     "data": {
      "text/html": [
       "<table>\n",
       "<caption>A tibble: 2 × 4</caption>\n",
       "<thead>\n",
       "\t<tr><th scope=col>feature</th><th scope=col>DElog2FC</th><th scope=col>DEpadj</th><th scope=col>DEdir</th></tr>\n",
       "\t<tr><th scope=col>&lt;chr&gt;</th><th scope=col>&lt;dbl&gt;</th><th scope=col>&lt;dbl&gt;</th><th scope=col>&lt;chr&gt;</th></tr>\n",
       "</thead>\n",
       "<tbody>\n",
       "\t<tr><td>BraA09g010360.3C</td><td> 5.565935</td><td>4.535031e-256</td><td>up  </td></tr>\n",
       "\t<tr><td>BraA01g041270.3C</td><td>-9.805555</td><td>2.653620e-246</td><td>down</td></tr>\n",
       "</tbody>\n",
       "</table>\n"
      ],
      "text/latex": [
       "A tibble: 2 × 4\n",
       "\\begin{tabular}{r|llll}\n",
       " feature & DElog2FC & DEpadj & DEdir\\\\\n",
       " <chr> & <dbl> & <dbl> & <chr>\\\\\n",
       "\\hline\n",
       "\t BraA09g010360.3C &  5.565935 & 4.535031e-256 & up  \\\\\n",
       "\t BraA01g041270.3C & -9.805555 & 2.653620e-246 & down\\\\\n",
       "\\end{tabular}\n"
      ],
      "text/markdown": [
       "\n",
       "A tibble: 2 × 4\n",
       "\n",
       "| feature &lt;chr&gt; | DElog2FC &lt;dbl&gt; | DEpadj &lt;dbl&gt; | DEdir &lt;chr&gt; |\n",
       "|---|---|---|---|\n",
       "| BraA09g010360.3C |  5.565935 | 4.535031e-256 | up   |\n",
       "| BraA01g041270.3C | -9.805555 | 2.653620e-246 | down |\n",
       "\n"
      ],
      "text/plain": [
       "  feature          DElog2FC  DEpadj        DEdir\n",
       "1 BraA09g010360.3C  5.565935 4.535031e-256 up   \n",
       "2 BraA01g041270.3C -9.805555 2.653620e-246 down "
      ]
     },
     "metadata": {},
     "output_type": "display_data"
    }
   ],
   "source": [
    "deg_res <- list.files(\"~/work/galaxy-res/rnaseq/\", pattern = \".*table.tabular\", full.names = T)\n",
    "\n",
    "deg_res <- read_tsv(deg_res, col_names = c(\"feature\", \"BaseMean\", \"DElog2FC\", \"StdErr\", \"WaldStats\", \"Pvalue\", \"DEpadj\"), col_types = cols()) %>%\n",
    "    select(feature, DElog2FC, DEpadj) %>%\n",
    "    mutate(DElog2FC = replace_na(DElog2FC, 0), DEdir = if_else(DElog2FC < 0, \"down\", if_else(DElog2FC == 0, \"NA\", \"up\")))\n",
    "# number of total genes and inspection of table\n",
    "nrow(deg_res)\n",
    "head(deg_res, 2)"
   ]
  },
  {
   "cell_type": "code",
   "execution_count": 24,
   "metadata": {},
   "outputs": [
    {
     "name": "stderr",
     "output_type": "stream",
     "text": [
      "Warning message:\n",
      "\"attributes are not identical across measure variables;\n",
      "they will be dropped\""
     ]
    }
   ],
   "source": [
    "cnt_res %>% select(feature, tissue, counts, sd, expr_lvl = category) %>% \n",
    "        gather(variable, value, -(feature:tissue)) %>% \n",
    "        unite(temp, variable, tissue, sep = \"-\") %>%\n",
    "        spread(temp, value) %>% \n",
    "        left_join(deg_res, by = \"feature\") %>% \n",
    "        select(1,2,6,4,3,7,5,8,9,10) %>%\n",
    "        write_tsv(\"~/work/jupyter-res/Table S5.xls\")\n",
    "\n",
    "anno_df %>% left_join(deg_res, by = \"feature\") %>%\n",
    "        write_annot(paste0(manorm_dir, \"manorm_annot_LvsF_deg.txt\"))"
   ]
  },
  {
   "cell_type": "markdown",
   "metadata": {},
   "source": [
    "## Combination of ChIP-seq and RNA-seq results\n",
    "Annotated MAnorm results table is reorganized to include a column for tissues and joined with RNA-seq results.\n"
   ]
  },
  {
   "cell_type": "code",
   "execution_count": 25,
   "metadata": {},
   "outputs": [],
   "source": [
    "ann_res <- res_anpe %>% select(feature, contains(\"lea\"), contains(\"infl\"), peak, Peak_Group, insideFeature, M_value, P_value) %>% \n",
    "    rename(density_leaf = normalized_read_density_in_leaf, density_infl = normalized_read_density_in_infl) %>%  \n",
    "    gather(tmp, value, ends_with(\"leaf\"), ends_with(\"infl\")) %>%\n",
    "    separate(tmp, c(\"stat\", \"tissue\")) %>% \n",
    "    spread(stat, value)"
   ]
  },
  {
   "cell_type": "code",
   "execution_count": 26,
   "metadata": {},
   "outputs": [
    {
     "data": {
      "text/html": [
       "<table>\n",
       "<caption>A data.frame: 2 × 17</caption>\n",
       "<thead>\n",
       "\t<tr><th scope=col>feature</th><th scope=col>peak</th><th scope=col>Peak_Group</th><th scope=col>insideFeature</th><th scope=col>M_value</th><th scope=col>P_value</th><th scope=col>tissue</th><th scope=col>density</th><th scope=col>FC</th><th scope=col>peaks</th><th scope=col>counts</th><th scope=col>sd</th><th scope=col>z</th><th scope=col>category</th><th scope=col>DElog2FC</th><th scope=col>DEpadj</th><th scope=col>DEdir</th></tr>\n",
       "\t<tr><th scope=col>&lt;chr&gt;</th><th scope=col>&lt;chr&gt;</th><th scope=col>&lt;chr&gt;</th><th scope=col>&lt;fct&gt;</th><th scope=col>&lt;dbl&gt;</th><th scope=col>&lt;dbl&gt;</th><th scope=col>&lt;chr&gt;</th><th scope=col>&lt;dbl&gt;</th><th scope=col>&lt;dbl&gt;</th><th scope=col>&lt;chr&gt;</th><th scope=col>&lt;dbl&gt;</th><th scope=col>&lt;dbl&gt;</th><th scope=col>&lt;dbl&gt;</th><th scope=col>&lt;fct&gt;</th><th scope=col>&lt;dbl&gt;</th><th scope=col>&lt;dbl&gt;</th><th scope=col>&lt;chr&gt;</th></tr>\n",
       "</thead>\n",
       "<tbody>\n",
       "\t<tr><td>BraA08g000140.3C</td><td>00001</td><td>leaf_unique</td><td>inside</td><td>-0.57502</td><td>0.001369735</td><td>leaf</td><td>65.79062</td><td>1.015585</td><td>island_10666</td><td>420.3173</td><td>16.64863</td><td>0.7408636</td><td>high</td><td>-0.4149376</td><td>0.1072147</td><td>down</td></tr>\n",
       "\t<tr><td>BraA08g000140.3C</td><td>00001</td><td>leaf_unique</td><td>inside</td><td>-0.57502</td><td>0.001369735</td><td>infl</td><td>98.00816</td><td>      NA</td><td>NA          </td><td>557.6183</td><td>17.22025</td><td>0.9573216</td><td>high</td><td>-0.4149376</td><td>0.1072147</td><td>down</td></tr>\n",
       "</tbody>\n",
       "</table>\n"
      ],
      "text/latex": [
       "A data.frame: 2 × 17\n",
       "\\begin{tabular}{r|lllllllllllllllll}\n",
       " feature & peak & Peak\\_Group & insideFeature & M\\_value & P\\_value & tissue & density & FC & peaks & counts & sd & z & category & DElog2FC & DEpadj & DEdir\\\\\n",
       " <chr> & <chr> & <chr> & <fct> & <dbl> & <dbl> & <chr> & <dbl> & <dbl> & <chr> & <dbl> & <dbl> & <dbl> & <fct> & <dbl> & <dbl> & <chr>\\\\\n",
       "\\hline\n",
       "\t BraA08g000140.3C & 00001 & leaf\\_unique & inside & -0.57502 & 0.001369735 & leaf & 65.79062 & 1.015585 & island\\_10666 & 420.3173 & 16.64863 & 0.7408636 & high & -0.4149376 & 0.1072147 & down\\\\\n",
       "\t BraA08g000140.3C & 00001 & leaf\\_unique & inside & -0.57502 & 0.001369735 & infl & 98.00816 &       NA & NA           & 557.6183 & 17.22025 & 0.9573216 & high & -0.4149376 & 0.1072147 & down\\\\\n",
       "\\end{tabular}\n"
      ],
      "text/markdown": [
       "\n",
       "A data.frame: 2 × 17\n",
       "\n",
       "| feature &lt;chr&gt; | peak &lt;chr&gt; | Peak_Group &lt;chr&gt; | insideFeature &lt;fct&gt; | M_value &lt;dbl&gt; | P_value &lt;dbl&gt; | tissue &lt;chr&gt; | density &lt;dbl&gt; | FC &lt;dbl&gt; | peaks &lt;chr&gt; | counts &lt;dbl&gt; | sd &lt;dbl&gt; | z &lt;dbl&gt; | category &lt;fct&gt; | DElog2FC &lt;dbl&gt; | DEpadj &lt;dbl&gt; | DEdir &lt;chr&gt; |\n",
       "|---|---|---|---|---|---|---|---|---|---|---|---|---|---|---|---|---|\n",
       "| BraA08g000140.3C | 00001 | leaf_unique | inside | -0.57502 | 0.001369735 | leaf | 65.79062 | 1.015585 | island_10666 | 420.3173 | 16.64863 | 0.7408636 | high | -0.4149376 | 0.1072147 | down |\n",
       "| BraA08g000140.3C | 00001 | leaf_unique | inside | -0.57502 | 0.001369735 | infl | 98.00816 |       NA | NA           | 557.6183 | 17.22025 | 0.9573216 | high | -0.4149376 | 0.1072147 | down |\n",
       "\n"
      ],
      "text/plain": [
       "  feature          peak  Peak_Group  insideFeature M_value  P_value     tissue\n",
       "1 BraA08g000140.3C 00001 leaf_unique inside        -0.57502 0.001369735 leaf  \n",
       "2 BraA08g000140.3C 00001 leaf_unique inside        -0.57502 0.001369735 infl  \n",
       "  density  FC       peaks        counts   sd       z         category\n",
       "1 65.79062 1.015585 island_10666 420.3173 16.64863 0.7408636 high    \n",
       "2 98.00816       NA NA           557.6183 17.22025 0.9573216 high    \n",
       "  DElog2FC   DEpadj    DEdir\n",
       "1 -0.4149376 0.1072147 down \n",
       "2 -0.4149376 0.1072147 down "
      ]
     },
     "metadata": {},
     "output_type": "display_data"
    }
   ],
   "source": [
    "all_res <- ann_res %>% \n",
    "    full_join(select(cnt_res, -S1, -S2, -S3, -log, -tmean, -tsd), by = c(\"feature\", \"tissue\")) %>% \n",
    "    full_join(deg_res, by = \"feature\") %>%\n",
    "    mutate(density = as.numeric(density), FC = as.numeric(FC))\n",
    "all_res %>% arrange(peak) %>% head(2)"
   ]
  },
  {
   "cell_type": "markdown",
   "metadata": {},
   "source": [
    "## Filter and plot results\n",
    "All data is filtered by fold change on both epigenetic mark and transcript levels between the two tissues. Also, any result without a significant p-value is removed. All surviving genes and those that reduce their mark on inflorescences and increase their transcript levels compared to leaves are counted.\n",
    "\n",
    "To plot, results are filtered for leaf peaks (M and FC are the same on both tissues), and level of expression is indicated for inflorescences."
   ]
  },
  {
   "cell_type": "code",
   "execution_count": 27,
   "metadata": {},
   "outputs": [],
   "source": [
    "mnFC <- 0.5\n",
    "deFC <- 0.5\n",
    "pval <- 0.1\n",
    "\n",
    "filt_res <- filter(all_res, !is.na(category), !is.na(peaks), abs(M_value) > mnFC, abs(DElog2FC) > deFC, P_value < pval, DEpadj < pval) \n",
    "\n",
    "n_gen <- filt_res %>% select(feature) %>% unique() %>% nrow()\n",
    "n_sel <- filt_res %>% filter(M_value > 0, DElog2FC < 0) %>% select(feature) %>% unique() %>% nrow()"
   ]
  },
  {
   "cell_type": "code",
   "execution_count": 28,
   "metadata": {},
   "outputs": [
    {
     "name": "stderr",
     "output_type": "stream",
     "text": [
      "Adding missing grouping variables: `tissue`\n"
     ]
    },
    {
     "data": {
      "image/png": "[encoded data removed]",
      "text/plain": [
       "plot without title"
      ]
     },
     "metadata": {},
     "output_type": "display_data"
    }
   ],
   "source": [
    "my_data <- filt_res %>% filter(tissue == \"leaf\") %>% select(feature, M_value, DElog2FC) %>% \n",
    "    left_join(select(filter(cnt_res, tissue == \"infl\"), feature, category), by = \"feature\")\n",
    "\n",
    "p4 <- ggplot(data = my_data) +\n",
    "    geom_point(aes(x = M_value, y = DElog2FC, color = category, shape = category), size = 1) + \n",
    "    labs(title = paste0(\"filtered: |M|>\",mnFC,\" |FC|>\",deFC,\", P<\",pval,\"; leaf\"), \n",
    "         subtitle = paste0(\"(n genes = \",n_gen,\"; BottomRight \",n_sel,\")\"), \n",
    "         x = \"Differential binding (M value)\", \n",
    "         y = \"Differential expression (log2FC)\", \n",
    "         shape = \"Gene\\nexpression\", \n",
    "         color = \"Gene\\nexpression\") + \n",
    "    theme_bw() + \n",
    "    theme(legend.position = c(0.89,0.82), legend.margin = margin(0, 0, 0, 0, \"cm\"))\n",
    "p4"
   ]
  },
  {
   "cell_type": "code",
   "execution_count": 29,
   "metadata": {},
   "outputs": [],
   "source": [
    "ggsave(p4, file = \"~/work/jupyter-res/mvalVSfc_lfPKflCT.tiff\", width = 4.5, height = 5, compression = \"lzw\")"
   ]
  },
  {
   "cell_type": "code",
   "execution_count": 30,
   "metadata": {},
   "outputs": [],
   "source": [
    "filt_res %>% filter(M_value > 0, DElog2FC < 0) %>% \n",
    "    select(feature,M_value,P_value,DElog2FC,DEpadj) %>% \n",
    "    distinct(feature) %>% \n",
    "    arrange(feature) %>%\n",
    "    left_join(bra_ann, by = \"feature\") %>%\n",
    "    write_annot(\"~/work/jupyter-res/Table_S8.xls\")"
   ]
  },
  {
   "cell_type": "code",
   "execution_count": null,
   "metadata": {},
   "outputs": [],
   "source": []
  }
 ],
 "metadata": {
  "kernelspec": {
   "display_name": "R",
   "language": "R",
   "name": "ir"
  },
  "language_info": {
   "codemirror_mode": "r",
   "file_extension": ".r",
   "mimetype": "text/x-r-source",
   "name": "R",
   "pygments_lexer": "r",
   "version": "3.6.0"
  }
 },
 "nbformat": 4,
 "nbformat_minor": 2
}
